{
 "cells": [
  {
   "cell_type": "markdown",
   "id": "human-relevance",
   "metadata": {},
   "source": [
    "# Τεχνικές Εξόρυξης Δεδομένων - Εργαστηριακή Άσκηση 2\n",
    "---\n",
    "\n",
    "Στόχος της εργαστηριακής άσκησης αυτής είναι η περαιτέρω εξοικείωση σας με βασικές διαδικασίες στην εξόρυξη δεδομένων χρησιμοποιώντας την βιβλιοθήκη [**pandas**](https://pandas.pydata.org/pandas-docs/stable/). Στην άσκηση αυτή, θα δημιουργήσετε ένα μεγαλύτερο dataset με έναν πιο ενδιαφέρον τρόπο, θα το \"εξερευνήσετε\" και κατόπιν  θα εξάγετε κάποια συμπεράσματα, τα οποία θα παρουσιάσετε χρησιμοποιώντας την βιβλιοθήκη [**matplotlib**](https://matplotlib.org/3.1.1/users/index.html). Για την κατασκευή του νέου dataset θα γίνει χρήση της βιβλιοθήκης [**numpy**](https://numpy.org/).\n",
    "\n",
    "**Σημείωση/Υπόμνημα:** Πολλές εντολές σημείωνοται `έτσι`. Οι εντολές που είναι [`σε αυτήν την μορφή`]() περιέχουν συνδέσμους προς το documentation της συνάρτησης/μεθόδου στην οποία αναφέρονται.  Μην ξεχάσετε να τις επισκεφτείτε αν <<κολλήσετε>> σε οποιδήποτε σημείο."
   ]
  },
  {
   "cell_type": "code",
   "execution_count": null,
   "id": "adolescent-greenhouse",
   "metadata": {},
   "outputs": [],
   "source": [
    "# Χρησιμοποιώντας την εντολή import, εισάγετε τις προαναφερθείσες βιβλιοθήκες καθώς και την sys\n",
    "# Αν δεν είναι εγκατεστημένες μπορείτε να χρησιμοποιήσετε την εντολή: !pip install pandas matplotlib\n",
    "# Θα χρειαστούμε μόνο το pyplot module της matplotlib και το random module από την numpy\n",
    "# Μην ξεχάσετε να ορίσετε local names (pd για το pandas και plt για το matplotlib.pyplot)\n",
    "\n",
    "\n",
    "\n",
    "# Θα χρησιμοποιηθεί μόνο για την εύρεση της έκδοσης του matplotlib\n",
    "import matplotlib \n",
    "# Χρησιμοπoείται για inline plotting\n",
    "%matplotlib inline "
   ]
  },
  {
   "cell_type": "code",
   "execution_count": null,
   "id": "grateful-filter",
   "metadata": {},
   "outputs": [],
   "source": [
    "# Επιβεβαιώστε ότι έχει γίνει σωστά η εισαγωγή τρέχοντας το τρέχον κελί.\n",
    "# Η έξοδος του κελιού πρέπει να είναι της μορφής:\n",
    "# Python version 3.X.X (default, MM DD YYYY, HH:MM:SS)\n",
    "# Matplotlib version 3.X.X\n",
    "print('Python version ' + sys.version)\n",
    "print('Pandas version ' + pd.__version__)\n",
    "print('Matplotlib version ' + matplotlib.__version__)"
   ]
  },
  {
   "cell_type": "markdown",
   "id": "varied-penguin",
   "metadata": {},
   "source": [
    "---\n",
    "## 1. Δημιουργία Dataset\n",
    "To dataset που θα χρησιμοποιήσετε θα αποτελείται από τα ονόματα 1000 εγγραφές με ονόματα παιδιών για το έτος 1880. Επιπλέον, κάθε όνομα θα εμφανίζεται περισσότερες από μία φορές. Μπορείτε να το σκεφτείτε ως εξής: Συλλέγουμε δεδομένα από πολλά νοσοκομεία, και κάθε όνομα μπορεί να εμφανίζεται πολλά από αυτά."
   ]
  },
  {
   "cell_type": "code",
   "execution_count": null,
   "id": "laden-mayor",
   "metadata": {},
   "outputs": [],
   "source": [
    "# Το αρχικό σύνολο ονομάτων (χρησιμοποιήθηκε και στην προηγούμενη άσκηση)\n",
    "names = ['Bob','Jessica','Mary','John','Mel']"
   ]
  },
  {
   "cell_type": "markdown",
   "id": "passive-syndicate",
   "metadata": {},
   "source": [
    "Για να κατασκευάσουμε μια λίστα με 1000 εγγραφές χρησιμοποιώντας τα παραπάνω ονόματα αρκεί να παράγουμε 1000 τυχαίους αριθμούς στο [0,4]. Κάθε αριθμός θα αντιπροσωπεύει ένα από τα παραπάνω ονόματα.\n",
    "\n",
    "Για να γίνει αυτό, θα χρησιμοποιήσετε τις συναρτήσεις `random.seed()`,`randint(low,high)`,`len()` και `zip()`."
   ]
  },
  {
   "cell_type": "code",
   "execution_count": null,
   "id": "external-custody",
   "metadata": {},
   "outputs": [],
   "source": [
    "# Μπορείτε να μέθετε πως λειτουργεί η κάθε συνάρτηση εκτελώντας την random.seed? , random.randint? κλπ\n",
    "\n",
    "\n"
   ]
  },
  {
   "cell_type": "markdown",
   "id": "metallic-playlist",
   "metadata": {},
   "source": [
    "Απομένει η κατασκευή της λίστας. Σε πρώτη φάση θα κατασκευάσετε την λίστα με τα ονόματα.\n",
    "\n",
    "Υποδείξεις:\n",
    "\n",
    "`seed(500)`: Δημioyργία φύτρας/seed γεννήτριας τυχαίων αριθμών.\n",
    "\n",
    "`randint(low=0,high=len(names))` : Παραγωγή ενός τυχαίου ακεραίου μεταξύ 0 και του μεγέθους της λίστας names.\n",
    "\n",
    "`names[n]`: Προσπέλαση στοιχείου της λίστας names στην θέση n\n",
    "\n",
    "`for i in range(n):` : Επαναληπτικός βρόγχος i=1,2,3,...,n"
   ]
  },
  {
   "cell_type": "code",
   "execution_count": null,
   "id": "incomplete-wings",
   "metadata": {},
   "outputs": [],
   "source": [
    "# Κατασκευάστε εδώ την λίστα random_names\n",
    "\n",
    "\n",
    "\n",
    "# και τυπώστε τις πρώτες 10 εγγραφές\n",
    "\n",
    "\n"
   ]
  },
  {
   "cell_type": "markdown",
   "id": "elegant-reggae",
   "metadata": {},
   "source": [
    "Με αντίστοιχο τρόπο, κατασκευάστε και το πλήθος των παιδιών (0-1000) για κάθε μία από τις 1000 εγγραφές."
   ]
  },
  {
   "cell_type": "code",
   "execution_count": null,
   "id": "short-virtue",
   "metadata": {},
   "outputs": [],
   "source": [
    "# Κατασκευάστε εδώ την λίστα births\n",
    "\n",
    "\n",
    "\n",
    "# και τυπώστε τις πρώτες 10 εγγραφές\n",
    "\n",
    "\n"
   ]
  },
  {
   "cell_type": "markdown",
   "id": "further-accent",
   "metadata": {},
   "source": [
    "Μπορείτε να ενώσετε πλέον σε μία λίστα από tuples τις δύο λίστες αυτές μέσω τις `zip()`:"
   ]
  },
  {
   "cell_type": "code",
   "execution_count": null,
   "id": "vulnerable-mixture",
   "metadata": {},
   "outputs": [],
   "source": []
  },
  {
   "cell_type": "markdown",
   "id": "fossil-affect",
   "metadata": {},
   "source": [
    "Πλέον είναι εφικτή η κατασκευή ενός pandas dataframe από τα δεδομένα."
   ]
  },
  {
   "cell_type": "code",
   "execution_count": null,
   "id": "received-litigation",
   "metadata": {},
   "outputs": [],
   "source": [
    "# Κατασκευάστε ένα dataframe από τα δεδομένα. \n",
    "# Μην ξεχάσετε να δώσετε δώσετε τα κατάλληλα ονόματα στις στήλες (Names, Births).\n",
    "\n",
    "\n",
    "\n",
    "# Τυπώστε τις πρώτες 10 εγγραφές\n",
    "\n",
    "\n"
   ]
  },
  {
   "cell_type": "code",
   "execution_count": null,
   "id": "varying-chinese",
   "metadata": {},
   "outputs": [],
   "source": [
    "# Χρησιμοποιώντας την to_csv εξάγετε τα δεδομένα σε ένα csv αρχείο\n",
    "# Σιγουρευτείτε ότι οι παράμετροι index και header έχουν τις σωστές τιμές!\n",
    "\n",
    "Location = r'' # Τo r κάνει escape όλους τους χαρακτήρες στην συμβολοσειρά\n",
    "\n",
    "\n"
   ]
  },
  {
   "cell_type": "markdown",
   "id": "damaged-infrastructure",
   "metadata": {},
   "source": [
    "---\n",
    "## 2.\"Διάβασμα\" Dataset"
   ]
  },
  {
   "cell_type": "code",
   "execution_count": null,
   "id": "broke-moral",
   "metadata": {},
   "outputs": [],
   "source": [
    "# Δημιουργήστε ένα καινούριο dataframe από το csv αρχείο που δημιουργήσατε πριν χρησιμοποιώντας την read_csv\n",
    "\n",
    "Location = r''\n",
    "\n"
   ]
  },
  {
   "cell_type": "code",
   "execution_count": null,
   "id": "toxic-reducing",
   "metadata": {},
   "outputs": [],
   "source": [
    "# Χρησιμοποιήστε την μέθοδο info() του dataframe για να μάθετε περισσότερες πληροφορίες γι' αυτό.\n",
    "\n",
    "\n"
   ]
  },
  {
   "cell_type": "code",
   "execution_count": null,
   "id": "female-mechanics",
   "metadata": {},
   "outputs": [],
   "source": [
    "# Χρησιμοποιήστε την μέθοδο head(n) του dataframe για να δείτε γρήγορα τις πρώτες n εγγραφές του dataframe\n",
    "# Είναι το αποτέλεσμα το επιθυμητό; Ρυθμίστε τις παραμέτρους της read_csv πιο πάνω έτσι ώστε να είναι.\n",
    "\n",
    "\n"
   ]
  },
  {
   "cell_type": "code",
   "execution_count": null,
   "id": "inappropriate-perth",
   "metadata": {},
   "outputs": [],
   "source": [
    "# Με την μέθοδο tail(n) του dataframe αντίστοιχα μπορείτε να δείτε τις τελευταίες n εγγραφές του dataframe.\n",
    "\n",
    "\n"
   ]
  },
  {
   "cell_type": "code",
   "execution_count": null,
   "id": "urban-healing",
   "metadata": {},
   "outputs": [],
   "source": [
    "# Διαγράψτε το csv αρχείο που δημιουργήσατε, μιας που δεν μας χρειάζεται πλέον.\n",
    "\n",
    "\n"
   ]
  },
  {
   "cell_type": "markdown",
   "id": "functioning-sleeve",
   "metadata": {},
   "source": [
    "---\n",
    "## 3. Προετοιμασία Dataset\n",
    "Στην περίπτωση που έχουμε να αντιμετωπίσουμε στήλες με λίγες τιμές που επαναλαμβάνονται, μας ενδιαφέρει να βρούμε ποιές είναι αυτές οι τιμές. Στην περίπτωση μας, όπως φαίνεται και από τις εκτυπώσεις παραπάνω, η στήλη **Names** περιέχει τα 5 ονόματα που ορίστηκαν παραπάνω. Για να δούμε όλες τις διαφορετικές τιμές που εμφανίζονται σε μια τέτοια στήλη υπάρχουν δύο τρόποι: είχη να γίνει χρήση της [`unique()`](https://pandas.pydata.org/pandas-docs/stable/reference/api/pandas.unique.html) είτε να γίνει χρήση της [`describe()`](https://pandas.pydata.org/pandas-docs/stable/reference/api/pandas.DataFrame.describe.html?highlight=describe#pandas.DataFrame.describe) στην αντίστοιχη στήλη του dataframe."
   ]
  },
  {
   "cell_type": "code",
   "execution_count": null,
   "id": "worse-mixture",
   "metadata": {},
   "outputs": [],
   "source": [
    "# Μέθοδος 1: unique()\n",
    "\n",
    "\n"
   ]
  },
  {
   "cell_type": "code",
   "execution_count": null,
   "id": "discrete-moscow",
   "metadata": {},
   "outputs": [],
   "source": [
    "# Μέθοδος 2: describe()\n",
    "\n",
    "\n"
   ]
  },
  {
   "cell_type": "markdown",
   "id": "after-chart",
   "metadata": {},
   "source": [
    "Η πληροφορία θα ήταν πολύ πιο κατανοητή αν κάθε όνομα στην στήλη **Names** εμφανιζόταν μόνο μια φορά. Αυτό μπορεί να επιτευχθεί χρησιμοποιώντας την συνάρτηση [`groupby`](https://pandas.pydata.org/pandas-docs/stable/reference/api/pandas.DataFrame.groupby.html)."
   ]
  },
  {
   "cell_type": "code",
   "execution_count": null,
   "id": "coupled-pottery",
   "metadata": {},
   "outputs": [],
   "source": [
    "# Δημιουργήστε ένα αντικείμενο groupby\n",
    "\n",
    "\n",
    "\n",
    "# Εφαρμόστε την συνάρτηση sum στο groupby object\n",
    "\n",
    "\n",
    "\n",
    "# Εκτυπώστε το νέο dataframe\n",
    "\n",
    "\n"
   ]
  },
  {
   "cell_type": "markdown",
   "id": "focused-chaos",
   "metadata": {},
   "source": [
    "---\n",
    "## 4. Ανάλυση Δεδομένων\n",
    "Έστω ότι επιθυμούμε να βρούμε το όνομα που εμφανίζεται τις περισσότερες φορές συνολικά. Υπενθυμίζουμε τις δύο μεθόδους εύρεσης αυτού:\n",
    "* Ταξινομώντας το dataframe και επιλέγοντας την πρώτη γραμμή\n",
    "* Χρησιμοποιώντας την [`max()`](https://pandas.pydata.org/pandas-docs/stable/reference/api/pandas.DataFrame.max.html?highlight=max#pandas.DataFrame.max) στο πεδίο Births"
   ]
  },
  {
   "cell_type": "code",
   "execution_count": null,
   "id": "northern-sugar",
   "metadata": {},
   "outputs": [],
   "source": [
    "# Μέθοδος 1\n",
    "\n",
    "\n"
   ]
  },
  {
   "cell_type": "code",
   "execution_count": null,
   "id": "complimentary-breast",
   "metadata": {},
   "outputs": [],
   "source": [
    "# Μέθοδος 2\n",
    "\n",
    "\n"
   ]
  },
  {
   "cell_type": "markdown",
   "id": "liquid-thermal",
   "metadata": {},
   "source": [
    "---\n",
    "## 5. Παρουσίαση Δεδομένων\n",
    "Ένας πρακτικός τρόπος να παρουσιάσετε τα δεδομένα που έχετε στην διάθεση σας είναι μέσω ενος bar plot (ραβδογράφημα). Αυτό μπορεί να υλοποιηθεί εύκολα εφαρμόζοντας την [`plot.bar()`](https://pandas.pydata.org/pandas-docs/stable/reference/api/pandas.DataFrame.plot.bar.html?highlight=plot%20bar#pandas.DataFrame.plot.bar) στην στήλη στην οποία θέλετε να απεικονίσετε."
   ]
  },
  {
   "cell_type": "code",
   "execution_count": null,
   "id": "technical-watts",
   "metadata": {},
   "outputs": [],
   "source": [
    "# Δημιουργία Γραφήματος\n",
    "\n",
    "\n",
    "\n",
    "# Εκτύπωση ταξινομημένου πίνακα τιμών\n",
    "\n",
    "\n"
   ]
  },
  {
   "cell_type": "markdown",
   "id": "desirable-toilet",
   "metadata": {},
   "source": [
    "> Χατζής Χρήστος - cs120004@di.uoa.gr - v1.0"
   ]
  }
 ],
 "metadata": {
  "kernelspec": {
   "display_name": "Python 3",
   "language": "python",
   "name": "python3"
  },
  "language_info": {
   "codemirror_mode": {
    "name": "ipython",
    "version": 3
   },
   "file_extension": ".py",
   "mimetype": "text/x-python",
   "name": "python",
   "nbconvert_exporter": "python",
   "pygments_lexer": "ipython3",
   "version": "3.8.5"
  }
 },
 "nbformat": 4,
 "nbformat_minor": 5
}
